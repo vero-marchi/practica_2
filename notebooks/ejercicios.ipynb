{
 "cells": [
  {
   "cell_type": "markdown",
   "metadata": {},
   "source": [
    "# TRABAJO PRACTICO 2\n",
    "\n",
    "## EJERCICIO 1\n",
    "### Análisis del Zen de Python\n",
    "Impresión de todas las líneas cuya segunda palabra comience con una vocal (A, E, I, O, U, a, e, i, o, u)."
   ]
  },
  {
   "cell_type": "code",
   "execution_count": null,
   "metadata": {},
   "outputs": [],
   "source": [
    "zen_text = \"\"\"\n",
    "Beautiful is better than ugly.\n",
    "Explicit is better than implicit.\n",
    "Simple is better than complex.\n",
    "Complex is better than complicated.\n",
    "Flat is better than nested.\n",
    "Sparse is better than dense.\n",
    "Readability counts.\n",
    "Special cases aren't special enough to break the rules.\n",
    "Although practicality beats purity.\n",
    "Errors should never pass silently.\n",
    "Unless explicitly silenced.\n",
    "In the face of ambiguity, refuse the temptation to guess.\n",
    "There should be one-- and preferably only one --obvious way to do it.\n",
    "Although that way may not be obvious at first unless you're Dutch.\n",
    "Now is better than never.\n",
    "Although never is often better than *right* now.\n",
    "If the implementation is hard to explain, it's a bad idea.\n",
    "If the implementation is easy to explain, it may be a good idea.\n",
    "Namespaces are one honking great idea -- let's do more of those!\n",
    "\"\"\"\n",
    "\n",
    "#Divido el texto en líneas\n",
    "lines = zen_text.splitlines()\n",
    "#Recorro cada línea de la lista lines\n",
    "for line in lines:\n",
    "    #Divido cada linea en palabras (por espacio) y las guardo en la variable words\n",
    "    words = line.split()\n",
    "    #Accedo a la segunda palabra de la lista words\n",
    "    #la paso a minúsculas \n",
    "    #y verifico si comienza con una vocal\n",
    "    if words[1].lower().startswith(('a','e','i','o','u')):\n",
    "        print(line)\n"
   ]
  },
  {
   "cell_type": "markdown",
   "metadata": {},
   "source": [
    "## EJERCICIO 2\n",
    "### Título más largo\n",
    "Dado un listado de títulos de streams en Twitch, encuentrar el título con más palabras y mostrarlo en pantalla."
   ]
  },
  {
   "cell_type": "code",
   "execution_count": null,
   "metadata": {},
   "outputs": [],
   "source": [
    "titles = [\n",
    "    \"Speedrun de Super Mario en tiempo récord\",\n",
    "    \"Charla sobre desarrollo de videojuegos\",\n",
    "    \"Jugando al nuevo FPS del momento con amigos\",\n",
    "    \"Música en vivo: improvisaciones al piano\"\n",
    "]\n",
    "\n",
    "#Inicializo una variable para guardar la cantidad de palabras máxima\n",
    "max_words = 0\n",
    "\n",
    "#Recorro cada título de la lista\n",
    "for title in titles:\n",
    "    #Cuento las palabras del título separando las palabras con split\n",
    "    cant_words = len(title.split())\n",
    "    \n",
    "    #Verifico si la cantidad de palabras del título es mayor a max_words\n",
    "    if cant_words > max_words:\n",
    "        #Si es mayor asigno el título a max_title\n",
    "        #y guardo la cantidad de palabras en max_words\n",
    "        max_title = title\n",
    "        max_words = cant_words\n",
    "\n",
    "print(f'El título más largo es: ', max_title)\n"
   ]
  }
 ],
 "metadata": {
  "kernelspec": {
   "display_name": "venv",
   "language": "python",
   "name": "python3"
  },
  "language_info": {
   "codemirror_mode": {
    "name": "ipython",
    "version": 3
   },
   "file_extension": ".py",
   "mimetype": "text/x-python",
   "name": "python",
   "nbconvert_exporter": "python",
   "pygments_lexer": "ipython3",
   "version": "3.12.9"
  }
 },
 "nbformat": 4,
 "nbformat_minor": 2
}
