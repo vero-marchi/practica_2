{
 "cells": [
  {
   "cell_type": "markdown",
   "metadata": {},
   "source": [
    "# TRABAJO PRACTICO 2\n",
    "\n",
    "## EJERCICIO 1\n",
    "### Análisis del Zen de Python\n",
    "Impresión de todas las líneas cuya segunda palabra comience con una vocal (A, E, I, O, U, a, e, i, o, u)."
   ]
  },
  {
   "cell_type": "code",
   "execution_count": null,
   "metadata": {},
   "outputs": [],
   "source": [
    "zen_text = \"\"\"\n",
    "Beautiful is better than ugly.\n",
    "Explicit is better than implicit.\n",
    "Simple is better than complex.\n",
    "Complex is better than complicated.\n",
    "Flat is better than nested.\n",
    "Sparse is better than dense.\n",
    "Readability counts.\n",
    "Special cases aren't special enough to break the rules.\n",
    "Although practicality beats purity.\n",
    "Errors should never pass silently.\n",
    "Unless explicitly silenced.\n",
    "In the face of ambiguity, refuse the temptation to guess.\n",
    "There should be one-- and preferably only one --obvious way to do it.\n",
    "Although that way may not be obvious at first unless you're Dutch.\n",
    "Now is better than never.\n",
    "Although never is often better than *right* now.\n",
    "If the implementation is hard to explain, it's a bad idea.\n",
    "If the implementation is easy to explain, it may be a good idea.\n",
    "Namespaces are one honking great idea -- let's do more of those!\n",
    "\"\"\"\n",
    "\n",
    "#Divido el texto en líneas\n",
    "lines = zen_text.splitlines()\n",
    "#Recorro cada línea de la lista lines\n",
    "for line in lines:\n",
    "    #Divido cada linea en palabras (por espacio) y las guardo en la variable words\n",
    "    words = line.split()\n",
    "    #Accedo a la segunda palabra de la lista words\n",
    "    #la paso a minúsculas \n",
    "    #y verifico si comienza con una vocal\n",
    "    if words[1].lower().startswith(('a','e','i','o','u')):\n",
    "        print(line)\n"
   ]
  },
  {
   "cell_type": "markdown",
   "metadata": {},
   "source": [
    "## EJERCICIO 2\n",
    "### Título más largo\n",
    "Dado un listado de títulos de streams en Twitch, encuentrar el título con más palabras y mostrarlo en pantalla."
   ]
  },
  {
   "cell_type": "code",
   "execution_count": null,
   "metadata": {},
   "outputs": [],
   "source": [
    "titles = [\n",
    "    \"Speedrun de Super Mario en tiempo récord\",\n",
    "    \"Charla sobre desarrollo de videojuegos\",\n",
    "    \"Jugando al nuevo FPS del momento con amigos\",\n",
    "    \"Música en vivo: improvisaciones al piano\"\n",
    "]\n",
    "\n",
    "#Inicializo una variable para guardar la cantidad de palabras máxima\n",
    "max_words = 0\n",
    "\n",
    "#Recorro cada título de la lista\n",
    "for title in titles:\n",
    "    #Cuento las palabras del título separando las palabras con split\n",
    "    cant_words = len(title.split())\n",
    "    \n",
    "    #Verifico si la cantidad de palabras del título es mayor a max_words\n",
    "    if cant_words > max_words:\n",
    "        #Si es mayor asigno el título a max_title\n",
    "        #y guardo la cantidad de palabras en max_words\n",
    "        max_title = title\n",
    "        max_words = cant_words\n",
    "\n",
    "print(f'El título más largo es: ', max_title)\n"
   ]
  },
  {
   "cell_type": "markdown",
   "metadata": {},
   "source": [
    "## EJERCICIO 3\n",
    "### Código de conducta\n",
    "Dado un código de conducta para un servidor de Discord, solicitar una palabra clave al usuario e imprimir todas las reglas que la contengan."
   ]
  },
  {
   "cell_type": "code",
   "execution_count": null,
   "metadata": {},
   "outputs": [],
   "source": [
    "rules = \"\"\"\n",
    "Respeta a los demás. \n",
    "No se permiten insultos ni lenguaje\n",
    "ofensivo.\n",
    "Evita el spam. \n",
    "No publiques enlaces sospechosos o repetitivos.\n",
    "No compartas información personal.\n",
    "Usa los canales adecuados para cada tema.\n",
    "Sigue las instrucciones de los moderadores.\n",
    "\"\"\"\n",
    "\n",
    "#Se solicita una plabra clave al usuario y se toma en minúscula\n",
    "word = input('Ingrese una palabra clave para buscar en las reglas: ').lower()\n",
    "\n",
    "#Divido las reglas en líneas\n",
    "rules_lines = rules.splitlines()\n",
    "\n",
    "#Creo una variable booleana y la inicializo en false\n",
    "found = False\n",
    "\n",
    "#Recorro cada línea\n",
    "for rule in rules_lines:\n",
    "    # Elimino espacios de los extremos de la línea\n",
    "    rule = rule.strip()\n",
    "    #Verifico si la palabra está en la línea (tomada en minúscula)\n",
    "    if word in rule.lower():\n",
    "        #Si la palabra está imprimo la regla y asigno true a found\n",
    "        print(rule)\n",
    "        found = True\n",
    "        \n",
    "if not found:\n",
    "    print(f'No se encontraron reglas que contengan la palabra \"{word}\".')"
   ]
  },
  {
   "cell_type": "markdown",
   "metadata": {},
   "source": [
    "## EJERCICIO 4\n",
    "### Validación de nombre de usuario\n",
    "Validar un nombre de usuario con los siguientes criterios:\n",
    "- Al menos 5 caracteres.\n",
    "- Contiene al menos un número.\n",
    "- Contiene al menos una letra mayúscula.\n",
    "- Solo puede contener letras y números."
   ]
  },
  {
   "cell_type": "code",
   "execution_count": null,
   "metadata": {},
   "outputs": [],
   "source": [
    "# Agregar la carpeta src al path para poder importar desde ahí\n",
    "import sys\n",
    "# Agrego la carpeta src al path de Python\n",
    "sys.path.append('../src')  \n",
    "\n",
    "# Importo las funciones \n",
    "from functions import validate_user\n",
    "\n",
    "# Se solicita el ingreso de un nombre de usuario\n",
    "username = input(\"Ingrese nombre de usuario: \")\n",
    "\n",
    "# Valido llamando a la función validate_user\n",
    "if validate_user(username):\n",
    "    print(\"El nombre de usuario es válido.\")\n",
    "else:\n",
    "    print(\"El nombre de usuario no cumple con los requisitos\")"
   ]
  }
 ],
 "metadata": {
  "kernelspec": {
   "display_name": "venv",
   "language": "python",
   "name": "python3"
  },
  "language_info": {
   "codemirror_mode": {
    "name": "ipython",
    "version": 3
   },
   "file_extension": ".py",
   "mimetype": "text/x-python",
   "name": "python",
   "nbconvert_exporter": "python",
   "pygments_lexer": "ipython3",
   "version": "3.12.9"
  }
 },
 "nbformat": 4,
 "nbformat_minor": 2
}
